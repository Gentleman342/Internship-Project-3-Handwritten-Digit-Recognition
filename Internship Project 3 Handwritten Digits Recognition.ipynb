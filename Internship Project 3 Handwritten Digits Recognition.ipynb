{
 "cells": [
  {
   "cell_type": "markdown",
   "id": "cf563994",
   "metadata": {},
   "source": [
    "# Handwritten Digits Recognition"
   ]
  },
  {
   "cell_type": "markdown",
   "id": "c7142c03",
   "metadata": {},
   "source": [
    "<img src=\"Handwritten_digit_imge.png\" width=\"\">"
   ]
  },
  {
   "cell_type": "markdown",
   "id": "9e6292a6",
   "metadata": {},
   "source": [
    "# Contents\n",
    "\n",
    "* PROBLEM STATMENT\n",
    "* DOMAIN ANALYSIS REPORT\n",
    "* IMPORTING DATASET\n",
    "* DATA ANALYSIS REPORT\n",
    "* VISUALIZING THE FIRST 36 TRAINING IMAGES\n",
    "* RESCALING THE IMAGES\n",
    "* BREAKING INTO TRAINING, TESTING AND VALIDATION SET\n",
    "* DEFINING THE NEURAL NETWORK\n",
    "* DEFINE THE MODEL ARCHITECTURE\n",
    "* COMPILE THE MODEL \n",
    "* TRAIN THE MODEL\n",
    "* LOAD THE MODEL WITH BEST VALIDITY ACCURACY\n",
    "* VISUALIZE SOME PREDICTION\n",
    "* EVALUATE ACCURACY\n",
    "  - CNN\n",
    "  - Support Vector Machine\n",
    "  - Logistic Regression\n",
    "  - K-Nearest Neighbor\n",
    "  - Decision Tree\n",
    "  - Random Forest\n",
    "  - Gradient Boosting\n",
    "  - Xtreme Gradient Boost\n",
    "* MODEL COMPARISION REPORT\n",
    "* CHALLENGES FACED\n",
    "* CONCLUSION"
   ]
  },
  {
   "cell_type": "markdown",
   "id": "705c2e4a",
   "metadata": {},
   "source": [
    "# Problem Statement\n",
    "\n",
    "##### Task 1:-Prepare a complete data analysis report on the given data.\n",
    "\n",
    "##### Task 2:- Classify a given image of a handwritten digit into one of the 10 classes representing integer values from 0 to 9.\n",
    "\n",
    "##### Task3:- Compare between various models and find the classifier that works better.\n"
   ]
  },
  {
   "cell_type": "markdown",
   "id": "eb1c54dc",
   "metadata": {},
   "source": [
    "# Domain Analysis Report\n",
    "\n",
    "##### Domain:\n",
    "Handwritten Digit Recognition\n",
    "##### Importance: \n",
    "Essential for automating data entry and improving accessibility.\n",
    "##### Dataset: \n",
    "MNIST, among others, containing grayscale images of digits (0-9).\n",
    "##### Size: \n",
    "Thousands of labeled samples with pixel values and varying handwriting styles.\n",
    "##### Task: \n",
    "Recognize and classify handwritten digits using supervised learning.\n",
    "##### Challenges: \n",
    "Variability in handwriting styles, noise, and limited data for specific classes.\n",
    "##### Approaches: \n",
    "Traditional methods, machine learning (SVM, k-NN), and deep learning (CNNs).\n",
    "##### State of the Art: \n",
    "Ongoing advancements in deep learning architectures.\n",
    "##### Applications: \n",
    "Widely used in postal automation, bank check processing, and document digitization.\n",
    "##### Future Directions: \n",
    "Explore emerging technologies, address challenges, and identify opportunities for improvement."
   ]
  },
  {
   "cell_type": "code",
   "execution_count": 20,
   "id": "3a6a3818",
   "metadata": {},
   "outputs": [],
   "source": [
    "# Importing the required libraries\n",
    "\n",
    "import numpy as np\n",
    "import seaborn as sns\n",
    "import matplotlib.pyplot as plt\n",
    "%matplotlib inline\n",
    "import keras\n",
    "import warnings\n",
    "warnings.filterwarnings('ignore')"
   ]
  },
  {
   "cell_type": "markdown",
   "id": "af62b0e9",
   "metadata": {},
   "source": [
    "# Importing the dataset"
   ]
  },
  {
   "cell_type": "code",
   "execution_count": 2,
   "id": "9f96322d",
   "metadata": {},
   "outputs": [],
   "source": [
    "from tensorflow.keras.datasets import mnist\n",
    "\n",
    "# load the pre-shuffled train and test data\n",
    "(x_train, y_train), (x_test, y_test) = mnist.load_data()"
   ]
  },
  {
   "cell_type": "code",
   "execution_count": 3,
   "id": "afde5c2e",
   "metadata": {},
   "outputs": [
    {
     "data": {
      "text/plain": [
       "(60000, 28, 28)"
      ]
     },
     "execution_count": 3,
     "metadata": {},
     "output_type": "execute_result"
    }
   ],
   "source": [
    "x_train.shape"
   ]
  },
  {
   "cell_type": "markdown",
   "id": "217db31c",
   "metadata": {},
   "source": [
    "60000: This indicates that there are 50,000 images in the dataset.\n",
    "\n",
    "28: This represents the height of each image in pixels.\n",
    "\n",
    "28: This represents the width of each image in pixels.\n",
    "\n",
    "* The no. of channels are not specified so we will take it as grayscale."
   ]
  },
  {
   "cell_type": "code",
   "execution_count": 5,
   "id": "2f00591c",
   "metadata": {},
   "outputs": [
    {
     "data": {
      "text/plain": [
       "(10000, 28, 28)"
      ]
     },
     "execution_count": 5,
     "metadata": {},
     "output_type": "execute_result"
    }
   ],
   "source": [
    "x_test.shape"
   ]
  },
  {
   "cell_type": "code",
   "execution_count": 6,
   "id": "c0bdde80",
   "metadata": {},
   "outputs": [
    {
     "data": {
      "text/plain": [
       "array([[[0, 0, 0, ..., 0, 0, 0],\n",
       "        [0, 0, 0, ..., 0, 0, 0],\n",
       "        [0, 0, 0, ..., 0, 0, 0],\n",
       "        ...,\n",
       "        [0, 0, 0, ..., 0, 0, 0],\n",
       "        [0, 0, 0, ..., 0, 0, 0],\n",
       "        [0, 0, 0, ..., 0, 0, 0]],\n",
       "\n",
       "       [[0, 0, 0, ..., 0, 0, 0],\n",
       "        [0, 0, 0, ..., 0, 0, 0],\n",
       "        [0, 0, 0, ..., 0, 0, 0],\n",
       "        ...,\n",
       "        [0, 0, 0, ..., 0, 0, 0],\n",
       "        [0, 0, 0, ..., 0, 0, 0],\n",
       "        [0, 0, 0, ..., 0, 0, 0]],\n",
       "\n",
       "       [[0, 0, 0, ..., 0, 0, 0],\n",
       "        [0, 0, 0, ..., 0, 0, 0],\n",
       "        [0, 0, 0, ..., 0, 0, 0],\n",
       "        ...,\n",
       "        [0, 0, 0, ..., 0, 0, 0],\n",
       "        [0, 0, 0, ..., 0, 0, 0],\n",
       "        [0, 0, 0, ..., 0, 0, 0]],\n",
       "\n",
       "       ...,\n",
       "\n",
       "       [[0, 0, 0, ..., 0, 0, 0],\n",
       "        [0, 0, 0, ..., 0, 0, 0],\n",
       "        [0, 0, 0, ..., 0, 0, 0],\n",
       "        ...,\n",
       "        [0, 0, 0, ..., 0, 0, 0],\n",
       "        [0, 0, 0, ..., 0, 0, 0],\n",
       "        [0, 0, 0, ..., 0, 0, 0]],\n",
       "\n",
       "       [[0, 0, 0, ..., 0, 0, 0],\n",
       "        [0, 0, 0, ..., 0, 0, 0],\n",
       "        [0, 0, 0, ..., 0, 0, 0],\n",
       "        ...,\n",
       "        [0, 0, 0, ..., 0, 0, 0],\n",
       "        [0, 0, 0, ..., 0, 0, 0],\n",
       "        [0, 0, 0, ..., 0, 0, 0]],\n",
       "\n",
       "       [[0, 0, 0, ..., 0, 0, 0],\n",
       "        [0, 0, 0, ..., 0, 0, 0],\n",
       "        [0, 0, 0, ..., 0, 0, 0],\n",
       "        ...,\n",
       "        [0, 0, 0, ..., 0, 0, 0],\n",
       "        [0, 0, 0, ..., 0, 0, 0],\n",
       "        [0, 0, 0, ..., 0, 0, 0]]], dtype=uint8)"
      ]
     },
     "execution_count": 6,
     "metadata": {},
     "output_type": "execute_result"
    }
   ],
   "source": [
    "x_train"
   ]
  },
  {
   "cell_type": "markdown",
   "id": "6cd93bd9",
   "metadata": {},
   "source": [
    "* The uint8 data type stands for \"unsigned 8-bit integer,\" which means that each pixel value in the image is an integer ranging from 0 to 255."
   ]
  },
  {
   "cell_type": "code",
   "execution_count": 7,
   "id": "a9d80c04",
   "metadata": {},
   "outputs": [
    {
     "data": {
      "text/plain": [
       "array([5, 0, 4, ..., 5, 6, 8], dtype=uint8)"
      ]
     },
     "execution_count": 7,
     "metadata": {},
     "output_type": "execute_result"
    }
   ],
   "source": [
    "y_train"
   ]
  },
  {
   "cell_type": "code",
   "execution_count": 8,
   "id": "4c8268ff",
   "metadata": {},
   "outputs": [
    {
     "data": {
      "text/plain": [
       "array([7, 2, 1, ..., 4, 5, 6], dtype=uint8)"
      ]
     },
     "execution_count": 8,
     "metadata": {},
     "output_type": "execute_result"
    }
   ],
   "source": [
    "y_test"
   ]
  },
  {
   "cell_type": "markdown",
   "id": "67314a68",
   "metadata": {},
   "source": [
    "* y_train & y_test contains the numbers from 0 to 9 indicating the output of the images and specifying which image is indicating which digit."
   ]
  },
  {
   "cell_type": "code",
   "execution_count": 14,
   "id": "717ff4a0",
   "metadata": {},
   "outputs": [
    {
     "name": "stdout",
     "output_type": "stream",
     "text": [
      "Digit 0: 5923 occurrences\n",
      "Digit 1: 6742 occurrences\n",
      "Digit 2: 5958 occurrences\n",
      "Digit 3: 6131 occurrences\n",
      "Digit 4: 5842 occurrences\n",
      "Digit 5: 5421 occurrences\n",
      "Digit 6: 5918 occurrences\n",
      "Digit 7: 6265 occurrences\n",
      "Digit 8: 5851 occurrences\n",
      "Digit 9: 5949 occurrences\n"
     ]
    }
   ],
   "source": [
    "# Print the exact counts\n",
    "value_counts = np.bincount(y_train)\n",
    "for digit, count in enumerate(value_counts):\n",
    "    print(f\"Digit {digit}: {count} occurrences\")"
   ]
  },
  {
   "cell_type": "markdown",
   "id": "6f54e251",
   "metadata": {},
   "source": [
    "* We can see the occurrence of the label values in our dataset.\n",
    "* Digit 1 has occured the most."
   ]
  },
  {
   "cell_type": "markdown",
   "id": "47a3ecde",
   "metadata": {},
   "source": [
    "# Data Analysis Report\n",
    "The MNIST dataset comprises 28x28 grayscale images of handwritten digits (0-9), with 60,000 training and 10,000 testing samples. It is commonly used for digit recognition tasks. Exploratory data analysis reveals a balanced distribution of digits, and visual inspection showcases the diversity in writing styles. The dataset is well-suited for training and evaluating machine learning models for image classification."
   ]
  },
  {
   "cell_type": "markdown",
   "id": "2108e020",
   "metadata": {},
   "source": [
    "# Visualize the first 36 Training images"
   ]
  },
  {
   "cell_type": "code",
   "execution_count": 4,
   "id": "237d0243",
   "metadata": {},
   "outputs": [
    {
     "data": {
      "image/png": "[encoded data removed]",
      "text/plain": [
       "<Figure size 2000x500 with 36 Axes>"
      ]
     },
     "metadata": {},
     "output_type": "display_data"
    }
   ],
   "source": [
    "fig = plt.figure(figsize=(20,5))\n",
    "for i in range(36):\n",
    "    ax = fig.add_subplot(3, 12, i + 1, xticks=[], yticks=[])\n",
    "    ax.imshow(np.squeeze(x_train[i]))"
   ]
  },
  {
   "cell_type": "markdown",
   "id": "3906c42c",
   "metadata": {},
   "source": [
    "* We can see that the MNIST dataset contains the images of the digits and we need to make a model which image specify which digit."
   ]
  },
  {
   "cell_type": "markdown",
   "id": "d8b1a807",
   "metadata": {},
   "source": [
    "# Rescale the Images by Dividing Every Pixel in Every Image by 255"
   ]
  },
  {
   "cell_type": "code",
   "execution_count": 16,
   "id": "96e3bb41",
   "metadata": {},
   "outputs": [
    {
     "data": {
      "text/plain": [
       "array([[[0, 0, 0, ..., 0, 0, 0],\n",
       "        [0, 0, 0, ..., 0, 0, 0],\n",
       "        [0, 0, 0, ..., 0, 0, 0],\n",
       "        ...,\n",
       "        [0, 0, 0, ..., 0, 0, 0],\n",
       "        [0, 0, 0, ..., 0, 0, 0],\n",
       "        [0, 0, 0, ..., 0, 0, 0]],\n",
       "\n",
       "       [[0, 0, 0, ..., 0, 0, 0],\n",
       "        [0, 0, 0, ..., 0, 0, 0],\n",
       "        [0, 0, 0, ..., 0, 0, 0],\n",
       "        ...,\n",
       "        [0, 0, 0, ..., 0, 0, 0],\n",
       "        [0, 0, 0, ..., 0, 0, 0],\n",
       "        [0, 0, 0, ..., 0, 0, 0]],\n",
       "\n",
       "       [[0, 0, 0, ..., 0, 0, 0],\n",
       "        [0, 0, 0, ..., 0, 0, 0],\n",
       "        [0, 0, 0, ..., 0, 0, 0],\n",
       "        ...,\n",
       "        [0, 0, 0, ..., 0, 0, 0],\n",
       "        [0, 0, 0, ..., 0, 0, 0],\n",
       "        [0, 0, 0, ..., 0, 0, 0]],\n",
       "\n",
       "       ...,\n",
       "\n",
       "       [[0, 0, 0, ..., 0, 0, 0],\n",
       "        [0, 0, 0, ..., 0, 0, 0],\n",
       "        [0, 0, 0, ..., 0, 0, 0],\n",
       "        ...,\n",
       "        [0, 0, 0, ..., 0, 0, 0],\n",
       "        [0, 0, 0, ..., 0, 0, 0],\n",
       "        [0, 0, 0, ..., 0, 0, 0]],\n",
       "\n",
       "       [[0, 0, 0, ..., 0, 0, 0],\n",
       "        [0, 0, 0, ..., 0, 0, 0],\n",
       "        [0, 0, 0, ..., 0, 0, 0],\n",
       "        ...,\n",
       "        [0, 0, 0, ..., 0, 0, 0],\n",
       "        [0, 0, 0, ..., 0, 0, 0],\n",
       "        [0, 0, 0, ..., 0, 0, 0]],\n",
       "\n",
       "       [[0, 0, 0, ..., 0, 0, 0],\n",
       "        [0, 0, 0, ..., 0, 0, 0],\n",
       "        [0, 0, 0, ..., 0, 0, 0],\n",
       "        ...,\n",
       "        [0, 0, 0, ..., 0, 0, 0],\n",
       "        [0, 0, 0, ..., 0, 0, 0],\n",
       "        [0, 0, 0, ..., 0, 0, 0]]], dtype=uint8)"
      ]
     },
     "execution_count": 16,
     "metadata": {},
     "output_type": "execute_result"
    }
   ],
   "source": [
    "x_test"
   ]
  },
  {
   "cell_type": "code",
   "execution_count": 5,
   "id": "eb5554b5",
   "metadata": {},
   "outputs": [],
   "source": [
    "x_train = x_train.astype('float32')/255\n",
    "x_test = x_test.astype('float32')/255"
   ]
  },
  {
   "cell_type": "code",
   "execution_count": 18,
   "id": "8c554c39",
   "metadata": {},
   "outputs": [
    {
     "data": {
      "text/plain": [
       "array([[[0., 0., 0., ..., 0., 0., 0.],\n",
       "        [0., 0., 0., ..., 0., 0., 0.],\n",
       "        [0., 0., 0., ..., 0., 0., 0.],\n",
       "        ...,\n",
       "        [0., 0., 0., ..., 0., 0., 0.],\n",
       "        [0., 0., 0., ..., 0., 0., 0.],\n",
       "        [0., 0., 0., ..., 0., 0., 0.]],\n",
       "\n",
       "       [[0., 0., 0., ..., 0., 0., 0.],\n",
       "        [0., 0., 0., ..., 0., 0., 0.],\n",
       "        [0., 0., 0., ..., 0., 0., 0.],\n",
       "        ...,\n",
       "        [0., 0., 0., ..., 0., 0., 0.],\n",
       "        [0., 0., 0., ..., 0., 0., 0.],\n",
       "        [0., 0., 0., ..., 0., 0., 0.]],\n",
       "\n",
       "       [[0., 0., 0., ..., 0., 0., 0.],\n",
       "        [0., 0., 0., ..., 0., 0., 0.],\n",
       "        [0., 0., 0., ..., 0., 0., 0.],\n",
       "        ...,\n",
       "        [0., 0., 0., ..., 0., 0., 0.],\n",
       "        [0., 0., 0., ..., 0., 0., 0.],\n",
       "        [0., 0., 0., ..., 0., 0., 0.]],\n",
       "\n",
       "       ...,\n",
       "\n",
       "       [[0., 0., 0., ..., 0., 0., 0.],\n",
       "        [0., 0., 0., ..., 0., 0., 0.],\n",
       "        [0., 0., 0., ..., 0., 0., 0.],\n",
       "        ...,\n",
       "        [0., 0., 0., ..., 0., 0., 0.],\n",
       "        [0., 0., 0., ..., 0., 0., 0.],\n",
       "        [0., 0., 0., ..., 0., 0., 0.]],\n",
       "\n",
       "       [[0., 0., 0., ..., 0., 0., 0.],\n",
       "        [0., 0., 0., ..., 0., 0., 0.],\n",
       "        [0., 0., 0., ..., 0., 0., 0.],\n",
       "        ...,\n",
       "        [0., 0., 0., ..., 0., 0., 0.],\n",
       "        [0., 0., 0., ..., 0., 0., 0.],\n",
       "        [0., 0., 0., ..., 0., 0., 0.]],\n",
       "\n",
       "       [[0., 0., 0., ..., 0., 0., 0.],\n",
       "        [0., 0., 0., ..., 0., 0., 0.],\n",
       "        [0., 0., 0., ..., 0., 0., 0.],\n",
       "        ...,\n",
       "        [0., 0., 0., ..., 0., 0., 0.],\n",
       "        [0., 0., 0., ..., 0., 0., 0.],\n",
       "        [0., 0., 0., ..., 0., 0., 0.]]], dtype=float32)"
      ]
     },
     "execution_count": 18,
     "metadata": {},
     "output_type": "execute_result"
    }
   ],
   "source": [
    "x_test"
   ]
  },
  {
   "cell_type": "markdown",
   "id": "f1a9a00b",
   "metadata": {},
   "source": [
    "* When you rescale the pixel values by dividing them by a constant (e.g., 255.0), the data type of the array changes from uint8 to float32 or another floating-point type, depending on the specific rescaling factor used. This is because the result of the division is a floating-point number, even if the original pixel values were integers."
   ]
  },
  {
   "cell_type": "markdown",
   "id": "c637fa0d",
   "metadata": {},
   "source": [
    "# Break Dataset into Training, Testing, and Validation Sets"
   ]
  },
  {
   "cell_type": "code",
   "execution_count": 6,
   "id": "ae8d643a",
   "metadata": {},
   "outputs": [
    {
     "name": "stdout",
     "output_type": "stream",
     "text": [
      "x_train shape: (55000, 28, 28)\n",
      "55000 train samples\n",
      "10000 test samples\n",
      "5000 validation samples\n"
     ]
    }
   ],
   "source": [
    "from keras.utils import to_categorical\n",
    "\n",
    "y_train = keras.utils.to_categorical(y_train, num_classes=None)\n",
    "y_test = keras.utils.to_categorical(y_test, num_classes=None)\n",
    "\n",
    "# break training set into training and validation sets\n",
    "(x_train, x_valid) = x_train[5000:], x_train[:5000]\n",
    "(y_train, y_valid) = y_train[5000:], y_train[:5000]\n",
    "\n",
    "# print shape of training set\n",
    "print('x_train shape:', x_train.shape)\n",
    "\n",
    "# print number of training, validation, and test images\n",
    "print(x_train.shape[0], 'train samples')\n",
    "print(x_test.shape[0], 'test samples')\n",
    "print(x_valid.shape[0], 'validation samples')"
   ]
  },
  {
   "cell_type": "markdown",
   "id": "5b10f5ec",
   "metadata": {},
   "source": [
    "# Defining the Neural Network"
   ]
  },
  {
   "cell_type": "markdown",
   "id": "8670af2e",
   "metadata": {},
   "source": [
    "<img src=\"Handwritten_digit_7.PNG\" width=\"\">"
   ]
  },
  {
   "cell_type": "markdown",
   "id": "dd5607c3",
   "metadata": {},
   "source": [
    "# Define the Model Architecture "
   ]
  },
  {
   "cell_type": "code",
   "execution_count": 7,
   "id": "b929f1f4",
   "metadata": {},
   "outputs": [
    {
     "name": "stdout",
     "output_type": "stream",
     "text": [
      "Model: \"sequential\"\n",
      "_________________________________________________________________\n",
      " Layer (type)                Output Shape              Param #   \n",
      "=================================================================\n",
      " conv2d (Conv2D)             (None, 28, 28, 16)        160       \n",
      "                                                                 \n",
      " max_pooling2d (MaxPooling2  (None, 14, 14, 16)        0         \n",
      " D)                                                              \n",
      "                                                                 \n",
      " conv2d_1 (Conv2D)           (None, 14, 14, 32)        4640      \n",
      "                                                                 \n",
      " max_pooling2d_1 (MaxPoolin  (None, 7, 7, 32)          0         \n",
      " g2D)                                                            \n",
      "                                                                 \n",
      " conv2d_2 (Conv2D)           (None, 7, 7, 64)          18496     \n",
      "                                                                 \n",
      " max_pooling2d_2 (MaxPoolin  (None, 3, 3, 64)          0         \n",
      " g2D)                                                            \n",
      "                                                                 \n",
      " dropout (Dropout)           (None, 3, 3, 64)          0         \n",
      "                                                                 \n",
      " flatten (Flatten)           (None, 576)               0         \n",
      "                                                                 \n",
      " dense (Dense)               (None, 500)               288500    \n",
      "                                                                 \n",
      " dropout_1 (Dropout)         (None, 500)               0         \n",
      "                                                                 \n",
      " dense_1 (Dense)             (None, 200)               100200    \n",
      "                                                                 \n",
      " dense_2 (Dense)             (None, 10)                2010      \n",
      "                                                                 \n",
      "=================================================================\n",
      "Total params: 414006 (1.58 MB)\n",
      "Trainable params: 414006 (1.58 MB)\n",
      "Non-trainable params: 0 (0.00 Byte)\n",
      "_________________________________________________________________\n"
     ]
    }
   ],
   "source": [
    "from keras.models import Sequential\n",
    "from keras.layers import Conv2D, MaxPooling2D, Flatten, Dense, Dropout\n",
    "\n",
    "model = Sequential()\n",
    "model.add(Conv2D(filters=16, kernel_size=3, padding='same', activation='relu',input_shape=(28,28,1)))\n",
    "model.add(MaxPooling2D(pool_size=2))\n",
    "model.add(Conv2D(filters=32, kernel_size=3, padding='same', activation='relu'))\n",
    "model.add(MaxPooling2D(pool_size=2))\n",
    "model.add(Conv2D(filters=64, kernel_size=3, padding='same', activation='relu'))\n",
    "model.add(MaxPooling2D(pool_size=2))\n",
    "model.add(Dropout(0.3))\n",
    "model.add(Flatten())\n",
    "model.add(Dense(500, activation='relu'))\n",
    "model.add(Dropout(0.3))\n",
    "model.add(Dense(200, activation='relu'))\n",
    "model.add(Dense(10, activation='softmax'))\n",
    "\n",
    "model.summary()"
   ]
  },
  {
   "cell_type": "markdown",
   "id": "76651e81",
   "metadata": {},
   "source": [
    "# Compile the Model "
   ]
  },
  {
   "cell_type": "code",
   "execution_count": 8,
   "id": "9a9ad8fc",
   "metadata": {},
   "outputs": [],
   "source": [
    "model.compile(loss='categorical_crossentropy', optimizer='adam', metrics=['accuracy'])"
   ]
  },
  {
   "cell_type": "markdown",
   "id": "79da28d4",
   "metadata": {},
   "source": [
    "# Train the Model "
   ]
  },
  {
   "cell_type": "code",
   "execution_count": 20,
   "id": "18d92d6f",
   "metadata": {},
   "outputs": [
    {
     "name": "stdout",
     "output_type": "stream",
     "text": [
      "Epoch 1/10\n",
      "1716/1719 [============================>.] - ETA: 0s - loss: 0.1914 - accuracy: 0.9382\n",
      "Epoch 1: val_loss improved from inf to 0.05890, saving model to model.weights.best.hdf5\n",
      "1719/1719 [==============================] - 28s 15ms/step - loss: 0.1912 - accuracy: 0.9382 - val_loss: 0.0589 - val_accuracy: 0.9828\n",
      "Epoch 2/10\n",
      "1719/1719 [==============================] - ETA: 0s - loss: 0.0708 - accuracy: 0.9783\n",
      "Epoch 2: val_loss improved from 0.05890 to 0.03797, saving model to model.weights.best.hdf5\n",
      "1719/1719 [==============================] - 24s 14ms/step - loss: 0.0708 - accuracy: 0.9783 - val_loss: 0.0380 - val_accuracy: 0.9898\n",
      "Epoch 3/10\n",
      "1718/1719 [============================>.] - ETA: 0s - loss: 0.0550 - accuracy: 0.9834\n",
      "Epoch 3: val_loss improved from 0.03797 to 0.03246, saving model to model.weights.best.hdf5\n",
      "1719/1719 [==============================] - 24s 14ms/step - loss: 0.0550 - accuracy: 0.9834 - val_loss: 0.0325 - val_accuracy: 0.9900\n",
      "Epoch 4/10\n",
      "1716/1719 [============================>.] - ETA: 0s - loss: 0.0451 - accuracy: 0.9861\n",
      "Epoch 4: val_loss did not improve from 0.03246\n",
      "1719/1719 [==============================] - 24s 14ms/step - loss: 0.0450 - accuracy: 0.9861 - val_loss: 0.0435 - val_accuracy: 0.9866\n",
      "Epoch 5/10\n",
      "1717/1719 [============================>.] - ETA: 0s - loss: 0.0387 - accuracy: 0.9881\n",
      "Epoch 5: val_loss did not improve from 0.03246\n",
      "1719/1719 [==============================] - 23s 14ms/step - loss: 0.0387 - accuracy: 0.9881 - val_loss: 0.0381 - val_accuracy: 0.9914\n",
      "Epoch 6/10\n",
      "1716/1719 [============================>.] - ETA: 0s - loss: 0.0361 - accuracy: 0.9891\n",
      "Epoch 6: val_loss improved from 0.03246 to 0.03226, saving model to model.weights.best.hdf5\n",
      "1719/1719 [==============================] - 23s 14ms/step - loss: 0.0364 - accuracy: 0.9890 - val_loss: 0.0323 - val_accuracy: 0.9920\n",
      "Epoch 7/10\n",
      "1716/1719 [============================>.] - ETA: 0s - loss: 0.0325 - accuracy: 0.9900\n",
      "Epoch 7: val_loss improved from 0.03226 to 0.03159, saving model to model.weights.best.hdf5\n",
      "1719/1719 [==============================] - 23s 14ms/step - loss: 0.0325 - accuracy: 0.9900 - val_loss: 0.0316 - val_accuracy: 0.9910\n",
      "Epoch 8/10\n",
      "1717/1719 [============================>.] - ETA: 0s - loss: 0.0296 - accuracy: 0.9908\n",
      "Epoch 8: val_loss improved from 0.03159 to 0.03018, saving model to model.weights.best.hdf5\n",
      "1719/1719 [==============================] - 24s 14ms/step - loss: 0.0296 - accuracy: 0.9908 - val_loss: 0.0302 - val_accuracy: 0.9924\n",
      "Epoch 9/10\n",
      "1716/1719 [============================>.] - ETA: 0s - loss: 0.0266 - accuracy: 0.9918\n",
      "Epoch 9: val_loss improved from 0.03018 to 0.02703, saving model to model.weights.best.hdf5\n",
      "1719/1719 [==============================] - 23s 14ms/step - loss: 0.0266 - accuracy: 0.9917 - val_loss: 0.0270 - val_accuracy: 0.9938\n",
      "Epoch 10/10\n",
      "1717/1719 [============================>.] - ETA: 0s - loss: 0.0244 - accuracy: 0.9923\n",
      "Epoch 10: val_loss did not improve from 0.02703\n",
      "1719/1719 [==============================] - 24s 14ms/step - loss: 0.0243 - accuracy: 0.9923 - val_loss: 0.0273 - val_accuracy: 0.9926\n"
     ]
    }
   ],
   "source": [
    "from keras.callbacks import ModelCheckpoint   \n",
    "\n",
    "# train the model\n",
    "checkpointer = ModelCheckpoint(filepath='model.weights.best.hdf5', verbose=1, save_best_only=True)\n",
    "\n",
    "hist = model.fit(x_train, y_train, batch_size=32, epochs=10,\n",
    "          validation_data=(x_valid, y_valid), callbacks=[checkpointer], \n",
    "          verbose=1, shuffle=True)"
   ]
  },
  {
   "cell_type": "markdown",
   "id": "0e842572",
   "metadata": {},
   "source": [
    "# Load the Model with the Best Validation Accuracy"
   ]
  },
  {
   "cell_type": "code",
   "execution_count": 9,
   "id": "dc523d11",
   "metadata": {},
   "outputs": [],
   "source": [
    "model.load_weights('model.weights.best.hdf5')"
   ]
  },
  {
   "cell_type": "markdown",
   "id": "40d6d9b7",
   "metadata": {},
   "source": [
    "# Visualize Some Predictions"
   ]
  },
  {
   "cell_type": "code",
   "execution_count": 10,
   "id": "16655f67",
   "metadata": {},
   "outputs": [
    {
     "name": "stdout",
     "output_type": "stream",
     "text": [
      "313/313 [==============================] - 3s 7ms/step\n"
     ]
    }
   ],
   "source": [
    "# get predictions on the test set\n",
    "y_hat = model.predict(x_test)\n",
    "\n",
    "mnist_labels = ['zero','one', 'two', 'three', 'four', 'five', 'six', 'seven', 'eight', 'nine']"
   ]
  },
  {
   "cell_type": "code",
   "execution_count": 11,
   "id": "a06cc7da",
   "metadata": {},
   "outputs": [
    {
     "data": {
      "text/plain": [
       "(10000, 28, 28)"
      ]
     },
     "execution_count": 11,
     "metadata": {},
     "output_type": "execute_result"
    }
   ],
   "source": [
    "x_test.shape"
   ]
  },
  {
   "cell_type": "code",
   "execution_count": 24,
   "id": "9873ed40",
   "metadata": {},
   "outputs": [
    {
     "data": {
      "image/png": "[encoded data removed]",
      "text/plain": [
       "<Figure size 2000x800 with 32 Axes>"
      ]
     },
     "metadata": {},
     "output_type": "display_data"
    }
   ],
   "source": [
    "# plot a random sample of test images, their predicted labels, and ground truth\n",
    "fig = plt.figure(figsize=(20, 8))\n",
    "for i, idx in enumerate(np.random.choice(x_test.shape[0], size=32, replace=False)):\n",
    "    ax = fig.add_subplot(4, 8, i + 1, xticks=[], yticks=[])\n",
    "    ax.imshow(np.squeeze(x_test[idx]))\n",
    "    pred_idx = np.argmax(y_hat[idx])\n",
    "    true_idx = np.argmax(y_test[idx])\n",
    "    ax.set_title(\"{} ({})\".format(mnist_labels[pred_idx], mnist_labels[true_idx]),\n",
    "                 color=(\"blue\" if pred_idx == true_idx else \"red\"))"
   ]
  },
  {
   "cell_type": "markdown",
   "id": "3bb4bd3f",
   "metadata": {},
   "source": [
    "# Evaluate Accuracy"
   ]
  },
  {
   "cell_type": "markdown",
   "id": "1039e48c",
   "metadata": {},
   "source": [
    "# CNN"
   ]
  },
  {
   "cell_type": "code",
   "execution_count": 25,
   "id": "3fb968cd",
   "metadata": {},
   "outputs": [
    {
     "name": "stdout",
     "output_type": "stream",
     "text": [
      "[0.025303682312369347, 0.9929999709129333]\n",
      "Test accuracy: 99.30000%\n"
     ]
    }
   ],
   "source": [
    "score = model.evaluate(x_test, y_test, verbose=0)\n",
    "print(score)\n",
    "accuracy = 100*score[1]\n",
    "\n",
    "# print test accuracy\n",
    "print('Test accuracy: %.5f%%' % accuracy)"
   ]
  },
  {
   "cell_type": "markdown",
   "id": "470f8efe",
   "metadata": {},
   "source": [
    "# Support Vector Machine"
   ]
  },
  {
   "cell_type": "code",
   "execution_count": 30,
   "id": "3bbf824c",
   "metadata": {},
   "outputs": [
    {
     "name": "stdout",
     "output_type": "stream",
     "text": [
      "Accuracy :  93.93 %\n",
      "Classification Report:\n",
      "              precision    recall  f1-score   support\n",
      "\n",
      "           0       0.95      0.98      0.96       980\n",
      "           1       0.97      0.99      0.98      1135\n",
      "           2       0.93      0.94      0.93      1032\n",
      "           3       0.90      0.93      0.92      1010\n",
      "           4       0.93      0.96      0.95       982\n",
      "           5       0.92      0.91      0.91       892\n",
      "           6       0.95      0.95      0.95       958\n",
      "           7       0.95      0.93      0.94      1028\n",
      "           8       0.93      0.90      0.91       974\n",
      "           9       0.95      0.90      0.93      1009\n",
      "\n",
      "    accuracy                           0.94     10000\n",
      "   macro avg       0.94      0.94      0.94     10000\n",
      "weighted avg       0.94      0.94      0.94     10000\n",
      "\n"
     ]
    }
   ],
   "source": [
    "# Reshape the images to a 2D array (flatten)\n",
    "x_train_flat = x_train.reshape(x_train.shape[0], -1)\n",
    "x_test_flat = x_test.reshape(x_test.shape[0], -1)\n",
    "\n",
    "# Convert them to single-column labels\n",
    "y_train_single = np.argmax(y_train, axis=1)\n",
    "y_test_single = np.argmax(y_test, axis=1)\n",
    "\n",
    "# Create the SVM classifier\n",
    "clf = svm.SVC(kernel='linear')\n",
    "\n",
    "# Train the classifier\n",
    "clf.fit(x_train_flat, y_train_single)\n",
    "\n",
    "# Make predictions on the test set\n",
    "y_pred = clf.predict(x_test_flat)\n",
    "\n",
    "# Evaluate the model\n",
    "accuracy = accuracy_score(y_test_single, y_pred)\n",
    "print(\"Accuracy : \",accuracy*100,\"%\")\n",
    "\n",
    "# Display classification report\n",
    "print(\"Classification Report:\")\n",
    "print(classification_report(y_test_single, y_pred))"
   ]
  },
  {
   "cell_type": "markdown",
   "id": "124baf86",
   "metadata": {},
   "source": [
    "# Logistic Regression"
   ]
  },
  {
   "cell_type": "code",
   "execution_count": 31,
   "id": "5496027c",
   "metadata": {},
   "outputs": [
    {
     "name": "stdout",
     "output_type": "stream",
     "text": [
      "Accuracy :  92.65 %\n",
      "Classification Report:\n",
      "              precision    recall  f1-score   support\n",
      "\n",
      "           0       0.95      0.98      0.97       980\n",
      "           1       0.96      0.98      0.97      1135\n",
      "           2       0.93      0.90      0.92      1032\n",
      "           3       0.90      0.91      0.91      1010\n",
      "           4       0.94      0.94      0.94       982\n",
      "           5       0.90      0.87      0.88       892\n",
      "           6       0.94      0.95      0.95       958\n",
      "           7       0.93      0.92      0.93      1028\n",
      "           8       0.88      0.88      0.88       974\n",
      "           9       0.91      0.92      0.92      1009\n",
      "\n",
      "    accuracy                           0.93     10000\n",
      "   macro avg       0.93      0.93      0.93     10000\n",
      "weighted avg       0.93      0.93      0.93     10000\n",
      "\n"
     ]
    }
   ],
   "source": [
    "from sklearn.linear_model import LogisticRegression\n",
    "\n",
    "clf = LogisticRegression(max_iter=1000)\n",
    "clf.fit(x_train_flat, y_train_single)\n",
    "\n",
    "# Make predictions on the test set\n",
    "y_pred = clf.predict(x_test_flat)\n",
    "\n",
    "# Evaluate the model\n",
    "accuracy = accuracy_score(y_test_single, y_pred)\n",
    "print(\"Accuracy : \",accuracy*100,\"%\")\n",
    "\n",
    "# Display classification report\n",
    "print(\"Classification Report:\")\n",
    "print(classification_report(y_test_single, y_pred))"
   ]
  },
  {
   "cell_type": "markdown",
   "id": "514db384",
   "metadata": {},
   "source": [
    "# K-Nearest Neighbor"
   ]
  },
  {
   "cell_type": "code",
   "execution_count": 32,
   "id": "5ebdca28",
   "metadata": {},
   "outputs": [
    {
     "name": "stdout",
     "output_type": "stream",
     "text": [
      "Accuracy :  97.0 %\n",
      "Classification Report:\n",
      "              precision    recall  f1-score   support\n",
      "\n",
      "           0       0.97      0.99      0.98       980\n",
      "           1       0.96      1.00      0.98      1135\n",
      "           2       0.98      0.97      0.97      1032\n",
      "           3       0.96      0.96      0.96      1010\n",
      "           4       0.97      0.97      0.97       982\n",
      "           5       0.96      0.97      0.96       892\n",
      "           6       0.98      0.99      0.98       958\n",
      "           7       0.96      0.96      0.96      1028\n",
      "           8       0.99      0.93      0.96       974\n",
      "           9       0.96      0.96      0.96      1009\n",
      "\n",
      "    accuracy                           0.97     10000\n",
      "   macro avg       0.97      0.97      0.97     10000\n",
      "weighted avg       0.97      0.97      0.97     10000\n",
      "\n"
     ]
    }
   ],
   "source": [
    "from sklearn.neighbors import KNeighborsClassifier\n",
    "clf = KNeighborsClassifier(n_neighbors=3)\n",
    "\n",
    "# Train the classifier\n",
    "clf.fit(x_train_flat, y_train_single)\n",
    "\n",
    "# Make predictions on the test set\n",
    "y_pred = clf.predict(x_test_flat)\n",
    "\n",
    "# Evaluate the model\n",
    "accuracy = accuracy_score(y_test_single, y_pred)\n",
    "print(\"Accuracy : \",accuracy*100,\"%\")\n",
    "\n",
    "# Display classification report\n",
    "print(\"Classification Report:\")\n",
    "print(classification_report(y_test_single, y_pred))"
   ]
  },
  {
   "cell_type": "markdown",
   "id": "63c61ad2",
   "metadata": {},
   "source": [
    "# Decision Tree Classifier"
   ]
  },
  {
   "cell_type": "code",
   "execution_count": 33,
   "id": "a00ad805",
   "metadata": {},
   "outputs": [
    {
     "name": "stdout",
     "output_type": "stream",
     "text": [
      "Accuracy :  87.47 %\n",
      "Classification Report:\n",
      "              precision    recall  f1-score   support\n",
      "\n",
      "           0       0.92      0.94      0.93       980\n",
      "           1       0.94      0.96      0.95      1135\n",
      "           2       0.86      0.85      0.86      1032\n",
      "           3       0.83      0.86      0.84      1010\n",
      "           4       0.88      0.86      0.87       982\n",
      "           5       0.83      0.82      0.82       892\n",
      "           6       0.89      0.89      0.89       958\n",
      "           7       0.90      0.89      0.89      1028\n",
      "           8       0.84      0.82      0.83       974\n",
      "           9       0.85      0.86      0.85      1009\n",
      "\n",
      "    accuracy                           0.87     10000\n",
      "   macro avg       0.87      0.87      0.87     10000\n",
      "weighted avg       0.87      0.87      0.87     10000\n",
      "\n"
     ]
    }
   ],
   "source": [
    "from sklearn.tree import DecisionTreeClassifier\n",
    "clf = DecisionTreeClassifier()\n",
    "\n",
    "# Train the classifier\n",
    "clf.fit(x_train_flat, y_train_single)\n",
    "\n",
    "# Make predictions on the test set\n",
    "y_pred = clf.predict(x_test_flat)\n",
    "\n",
    "# Evaluate the model\n",
    "accuracy = accuracy_score(y_test_single, y_pred)\n",
    "print(\"Accuracy : \",accuracy*100,\"%\")\n",
    "\n",
    "# Display classification report\n",
    "print(\"Classification Report:\")\n",
    "print(classification_report(y_test_single, y_pred))"
   ]
  },
  {
   "cell_type": "markdown",
   "id": "d033a6a1",
   "metadata": {},
   "source": [
    "# Randon Forest Algorithm"
   ]
  },
  {
   "cell_type": "code",
   "execution_count": 34,
   "id": "10db6a68",
   "metadata": {},
   "outputs": [
    {
     "name": "stdout",
     "output_type": "stream",
     "text": [
      "Accuracy :  87.26 %\n",
      "Classification Report:\n",
      "              precision    recall  f1-score   support\n",
      "\n",
      "           0       0.91      0.94      0.93       980\n",
      "           1       0.95      0.96      0.95      1135\n",
      "           2       0.86      0.84      0.85      1032\n",
      "           3       0.84      0.85      0.85      1010\n",
      "           4       0.87      0.86      0.86       982\n",
      "           5       0.82      0.83      0.82       892\n",
      "           6       0.90      0.89      0.89       958\n",
      "           7       0.89      0.89      0.89      1028\n",
      "           8       0.82      0.82      0.82       974\n",
      "           9       0.84      0.84      0.84      1009\n",
      "\n",
      "    accuracy                           0.87     10000\n",
      "   macro avg       0.87      0.87      0.87     10000\n",
      "weighted avg       0.87      0.87      0.87     10000\n",
      "\n"
     ]
    }
   ],
   "source": [
    "from sklearn.tree import DecisionTreeClassifier\n",
    "clf = DecisionTreeClassifier()\n",
    "\n",
    "# Train the classifier\n",
    "clf.fit(x_train_flat, y_train_single)\n",
    "\n",
    "# Make predictions on the test set\n",
    "y_pred = clf.predict(x_test_flat)\n",
    "\n",
    "# Evaluate the model\n",
    "accuracy = accuracy_score(y_test_single, y_pred)\n",
    "print(\"Accuracy : \",accuracy*100,\"%\")\n",
    "\n",
    "# Display classification report\n",
    "print(\"Classification Report:\")\n",
    "print(classification_report(y_test_single, y_pred))"
   ]
  },
  {
   "cell_type": "markdown",
   "id": "cd49eef0",
   "metadata": {},
   "source": [
    "# Gradient Boosting Algorithm"
   ]
  },
  {
   "cell_type": "code",
   "execution_count": 35,
   "id": "023e1152",
   "metadata": {},
   "outputs": [
    {
     "name": "stdout",
     "output_type": "stream",
     "text": [
      "Accuracy :  94.74000000000001 %\n",
      "Classification Report:\n",
      "              precision    recall  f1-score   support\n",
      "\n",
      "           0       0.96      0.99      0.97       980\n",
      "           1       0.98      0.99      0.98      1135\n",
      "           2       0.95      0.93      0.94      1032\n",
      "           3       0.94      0.93      0.94      1010\n",
      "           4       0.95      0.95      0.95       982\n",
      "           5       0.94      0.93      0.94       892\n",
      "           6       0.97      0.95      0.96       958\n",
      "           7       0.96      0.93      0.94      1028\n",
      "           8       0.91      0.93      0.92       974\n",
      "           9       0.92      0.93      0.92      1009\n",
      "\n",
      "    accuracy                           0.95     10000\n",
      "   macro avg       0.95      0.95      0.95     10000\n",
      "weighted avg       0.95      0.95      0.95     10000\n",
      "\n"
     ]
    }
   ],
   "source": [
    "from sklearn.ensemble import GradientBoostingClassifier\n",
    "clf = GradientBoostingClassifier(n_estimators=100, random_state=42)\n",
    "\n",
    "# Train the classifier\n",
    "clf.fit(x_train_flat, y_train_single)\n",
    "\n",
    "# Make predictions on the test set\n",
    "y_pred = clf.predict(x_test_flat)\n",
    "\n",
    "# Evaluate the model\n",
    "accuracy = accuracy_score(y_test_single, y_pred)\n",
    "print(\"Accuracy : \",accuracy*100,\"%\")\n",
    "\n",
    "# Display classification report\n",
    "print(\"Classification Report:\")\n",
    "print(classification_report(y_test_single, y_pred))"
   ]
  },
  {
   "cell_type": "markdown",
   "id": "8f726025",
   "metadata": {},
   "source": [
    "# XGBoost Algorithm"
   ]
  },
  {
   "cell_type": "code",
   "execution_count": 36,
   "id": "2a6e6972",
   "metadata": {},
   "outputs": [
    {
     "name": "stdout",
     "output_type": "stream",
     "text": [
      "Accuracy :  97.83 %\n",
      "Classification Report:\n",
      "              precision    recall  f1-score   support\n",
      "\n",
      "           0       0.98      0.99      0.98       980\n",
      "           1       0.99      0.99      0.99      1135\n",
      "           2       0.97      0.97      0.97      1032\n",
      "           3       0.98      0.98      0.98      1010\n",
      "           4       0.98      0.97      0.98       982\n",
      "           5       0.99      0.98      0.98       892\n",
      "           6       0.99      0.98      0.98       958\n",
      "           7       0.98      0.97      0.97      1028\n",
      "           8       0.97      0.98      0.98       974\n",
      "           9       0.97      0.97      0.97      1009\n",
      "\n",
      "    accuracy                           0.98     10000\n",
      "   macro avg       0.98      0.98      0.98     10000\n",
      "weighted avg       0.98      0.98      0.98     10000\n",
      "\n"
     ]
    }
   ],
   "source": [
    "from xgboost import XGBClassifier\n",
    "clf = XGBClassifier(n_estimators=100, random_state=42)\n",
    "\n",
    "# Train the classifier\n",
    "clf.fit(x_train_flat, y_train_single)\n",
    "\n",
    "# Make predictions on the test set\n",
    "y_pred = clf.predict(x_test_flat)\n",
    "\n",
    "# Evaluate the model\n",
    "accuracy = accuracy_score(y_test_single, y_pred)\n",
    "print(\"Accuracy : \",accuracy*100,\"%\")\n",
    "\n",
    "# Display classification report\n",
    "print(\"Classification Report:\")\n",
    "print(classification_report(y_test_single, y_pred))"
   ]
  },
  {
   "cell_type": "markdown",
   "id": "176d07b6",
   "metadata": {},
   "source": [
    "# Model Comparison Report\n",
    "\n",
    "* CNN :- 99.30 %\n",
    "\n",
    "\n",
    "* Logistic Regression :- 92.65 %\n",
    "\n",
    "\n",
    "* Support Vector Machine :- 93.93 %\n",
    "\n",
    "\n",
    "* K-Nearest Neighbor :- 97.00 %\n",
    "\n",
    "\n",
    "* Decision Tree Classifier :- 87.47 %\n",
    "\n",
    "\n",
    "* Random Forest Classifier :- 87.26 %\n",
    "\n",
    "\n",
    "* Gradient Boosting :- 94.74 %\n",
    "\n",
    "\n",
    "* XGBoost :- 97.83 %\n",
    "\n",
    "\n",
    "##### The best accuracy is given by the CNN (Convolution Neural Network) i.e. 99.30 %"
   ]
  },
  {
   "cell_type": "markdown",
   "id": "d5108cf4",
   "metadata": {},
   "source": [
    "# Challenges Faced\n",
    "Challenges in the MNIST dataset include its simplicity, as it may not fully represent the complexity of real-world image recognition tasks. The dataset's small image size and lack of variations in writing styles can make it less challenging for advanced models. Additionally, MNIST's prevalence has led to overfitting issues, where models may perform exceptionally well on MNIST but struggle with more diverse datasets."
   ]
  },
  {
   "cell_type": "markdown",
   "id": "0a95fc49",
   "metadata": {},
   "source": [
    "# Conclusion\n",
    "The MNIST dataset demonstrates the superiority of Convolutional Neural Networks (CNNs) over traditional machine learning models such as logistic regression, k-Nearest Neighbors (k-NN), and Support Vector Machines (SVMs). The exceptional accuracy of the CNN, reaching 99.30%, underscores the effectiveness of deep learning architectures in capturing intricate patterns and spatial relationships within handwritten digits. This result emphasizes the significance of leveraging specialized neural network structures for image classification tasks, showcasing the remarkable performance gain achievable with CNNs on the MNIST dataset."
   ]
  },
  {
   "cell_type": "markdown",
   "id": "af782997",
   "metadata": {},
   "source": [
    "# Thank you for taking the time to review this project.\n",
    "\n",
    "Best regards,\n",
    "\n",
    "Vinay D Gaikwad"
   ]
  },
  {
   "cell_type": "code",
   "execution_count": null,
   "id": "a7b9e9b3",
   "metadata": {},
   "outputs": [],
   "source": []
  }
 ],
 "metadata": {
  "kernelspec": {
   "display_name": "Python 3 (ipykernel)",
   "language": "python",
   "name": "python3"
  },
  "language_info": {
   "codemirror_mode": {
    "name": "ipython",
    "version": 3
   },
   "file_extension": ".py",
   "mimetype": "text/x-python",
   "name": "python",
   "nbconvert_exporter": "python",
   "pygments_lexer": "ipython3",
   "version": "3.9.13"
  }
 },
 "nbformat": 4,
 "nbformat_minor": 5
}
